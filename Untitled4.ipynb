{
 "cells": [
  {
   "cell_type": "code",
   "execution_count": 10,
   "id": "d803882a-db71-41bb-9a24-1b561ad286e4",
   "metadata": {},
   "outputs": [],
   "source": [
    "from kaggle_environments.envs.kore_fleets.helpers import Point, Cell, Direction, Board\n",
    "from itertools import groupby\n",
    "import re\n"
   ]
  },
  {
   "cell_type": "code",
   "execution_count": 12,
   "id": "522aa704-5410-4456-96e0-824785e267c4",
   "metadata": {},
   "outputs": [],
   "source": [
    "def compress(expanded_flight_plan: str, compress_last: bool=False) -> str:\n",
    "    '''\n",
    "        Compress an expanded flight plan (EEEEENSS) into a compact one (E4ENS) while maintaining the order.\n",
    "        Examples:\n",
    "            EEEEENSS -> E4ENS\n",
    "            NEEENNNEEE -> N3E3NE\n",
    "    '''\n",
    "    # TODO: allow path factorization : NEEENNNEEE -> N6EN or N3NE instead of N3E3NE\n",
    "    path = ''\n",
    "    _groupby = [(char, len(list(g))) for char, g in groupby(expanded_flight_plan)]\n",
    "    for str_dir, length in _groupby:\n",
    "        path += str_dir + str(length - 1) if length > 1 else str_dir\n",
    "    \n",
    "    # if last elem is E3, remove quantifier to save space\n",
    "    return re.sub(r'(\\d)$', '', path) if compress_last else path"
   ]
  },
  {
   "cell_type": "code",
   "execution_count": 50,
   "id": "ee5c2226-25ba-4e5e-b5bf-2d2f74d745a7",
   "metadata": {},
   "outputs": [],
   "source": [
    "def compute_flight_planV(origin_point, target_point, round_trip: bool=False, compress_last: bool=True) -> str:\n",
    "    vector = target_point - origin_point\n",
    "    components = abs(vector)\n",
    "    _x = 'W' if vector.x < 0 else 'E'\n",
    "    _y = 'S' if vector.y < 0 else 'N'\n",
    "\n",
    "    xc = components.x if components.x <= 1 else components.x - 1  # \"N5E\" go north > 5E go north > 4E ...\n",
    "    yc = components.y if components.y <= 1 else components.y - 1\n",
    "\n",
    "    if not round_trip:\n",
    "        return compress(''.join([_x * xc] + [_y * yc]), compress_last=compress_last)  # first deplacement is always free\n",
    "    else:\n",
    "        one_way = ''.join([_x * xc] + [_y * yc])\n",
    "        round_trip = ''.join(reversed([Direction.from_char(char).opposite().to_char() for char in one_way]))\n",
    "        return compress(one_way + round_trip, compress_last=compress_last)"
   ]
  },
  {
   "cell_type": "code",
   "execution_count": 60,
   "id": "aea14004-e91e-45d4-91bb-3c9987551652",
   "metadata": {},
   "outputs": [],
   "source": [
    "def compute_flight_planV(origin_point, target_point, round_trip: bool=False, compress_last: bool=True) -> str:\n",
    "    vector = target_point - origin_point\n",
    "    components = abs(vector)\n",
    "    size = 21\n",
    "    \n",
    "    dir_x = 'E' if components.x < size/2 else 'W'\n",
    "    dir_y = 'N' if components.y < size/2 else 'S'\n",
    "\n",
    "    xc = components.x if components.x < size/2 else size - components.x\n",
    "    yc = components.y if components.y < size/2 else size - components.y\n",
    "\n",
    "    if not round_trip:\n",
    "        return compress(''.join([dir_x * xc] + [dir_y * yc]), compress_last=compress_last)  # first deplacement is always free\n",
    "    else:\n",
    "        one_way = ''.join([dir_x * xc] + [dir_y * yc])\n",
    "        round_trip = ''.join(reversed([Direction.from_char(char).opposite().to_char() for char in one_way]))\n",
    "        return compress(one_way + round_trip, compress_last=compress_last)"
   ]
  },
  {
   "cell_type": "code",
   "execution_count": 61,
   "id": "d27e6e05-3921-4be7-996b-c8bb21a66d89",
   "metadata": {},
   "outputs": [
    {
     "data": {
      "text/plain": [
       "'EN14'"
      ]
     },
     "execution_count": 61,
     "metadata": {},
     "output_type": "execute_result"
    }
   ],
   "source": [
    "compute_flight_plan(Point(1, 3), Point(20, 19), compress_last=False)"
   ]
  },
  {
   "cell_type": "code",
   "execution_count": 64,
   "id": "28cd55d5-795f-482a-9785-fde78815c3eb",
   "metadata": {},
   "outputs": [
    {
     "data": {
      "text/plain": [
       "'W1S4N4E'"
      ]
     },
     "execution_count": 64,
     "metadata": {},
     "output_type": "execute_result"
    }
   ],
   "source": [
    "compute_flight_planV(Point(1, 3), Point(20, 19), round_trip=True)"
   ]
  }
 ],
 "metadata": {
  "kernelspec": {
   "display_name": "Python 3 (ipykernel)",
   "language": "python",
   "name": "python3"
  },
  "language_info": {
   "codemirror_mode": {
    "name": "ipython",
    "version": 3
   },
   "file_extension": ".py",
   "mimetype": "text/x-python",
   "name": "python",
   "nbconvert_exporter": "python",
   "pygments_lexer": "ipython3",
   "version": "3.8.10"
  }
 },
 "nbformat": 4,
 "nbformat_minor": 5
}
