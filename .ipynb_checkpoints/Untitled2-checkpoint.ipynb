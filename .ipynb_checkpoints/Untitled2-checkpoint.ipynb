{
 "cells": [
  {
   "cell_type": "code",
   "execution_count": 1,
   "id": "39b3e43e-da86-4843-8940-c073e6bc03eb",
   "metadata": {},
   "outputs": [
    {
     "name": "stdout",
     "output_type": "stream",
     "text": [
      "kore_fleets 1.2.0\n"
     ]
    }
   ],
   "source": [
    "from kaggle_environments import make\n",
    "env = make(\"kore_fleets\", debug=True)\n",
    "print(env.name, env.version)\n",
    "\n",
    "from kaggle_environments.envs.kore_fleets.kore_fleets import attacker_agent \n",
    "from agentTree import baselineTree\n",
    "\n",
    "from tqdm.notebook import trange, tqdm\n",
    "from time import sleep\n",
    "\n",
    "def calcul_winrate(agent1, agent2, n_game=10):\n",
    "    n_win = 0\n",
    "    n_lose = 0\n",
    "    with trange(n_game) as t:\n",
    "        for i in t:\n",
    "            env = make(\"kore_fleets\")\n",
    "            env.run([agent1, agent2])\n",
    "            \n",
    "            killed = len(env.steps) < 400 and [bool(len(pl[1])) for pl in env.steps[-1][0]['observation']['players']][0]\n",
    "            farmed = env.steps[-2][0][\"observation\"][\"players\"][0][0] > env.steps[-2][0][\"observation\"][\"players\"][1][0]\n",
    "            \n",
    "            if killed or farmed:\n",
    "                n_win += 1\n",
    "            else :\n",
    "                n_lose += 1\n",
    "            t.set_postfix(current_winrate=f'{100*n_win/(n_lose+n_win):.1f}%')\n",
    "    print(f'{100*n_win/n_game:.1f}% winrate out of {n_game} games')"
   ]
  },
  {
   "cell_type": "code",
   "execution_count": null,
   "id": "3b964723-39bd-4298-8280-ac4776ea8efc",
   "metadata": {},
   "outputs": [
    {
     "data": {
      "application/vnd.jupyter.widget-view+json": {
       "model_id": "e2c9a92b7afb4d3391b900eef85b1bf3",
       "version_major": 2,
       "version_minor": 0
      },
      "text/plain": [
       "  0%|          | 0/50 [00:00<?, ?it/s]"
      ]
     },
     "metadata": {},
     "output_type": "display_data"
    }
   ],
   "source": [
    "calcul_winrate(baselineTree, attacker_agent, n_game=50)"
   ]
  }
 ],
 "metadata": {
  "kernelspec": {
   "display_name": "Python 3 (ipykernel)",
   "language": "python",
   "name": "python3"
  },
  "language_info": {
   "codemirror_mode": {
    "name": "ipython",
    "version": 3
   },
   "file_extension": ".py",
   "mimetype": "text/x-python",
   "name": "python",
   "nbconvert_exporter": "python",
   "pygments_lexer": "ipython3",
   "version": "3.8.10"
  }
 },
 "nbformat": 4,
 "nbformat_minor": 5
}
