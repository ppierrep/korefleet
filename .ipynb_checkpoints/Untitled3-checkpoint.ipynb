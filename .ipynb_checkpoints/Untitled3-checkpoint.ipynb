{
 "cells": [
  {
   "cell_type": "code",
   "execution_count": 1,
   "id": "2864841a-5e5c-4eec-aed2-2144d4393972",
   "metadata": {},
   "outputs": [],
   "source": [
    "from map import get_directions_under_length"
   ]
  },
  {
   "cell_type": "code",
   "execution_count": 5,
   "id": "7a3a6d47-6361-45fa-add5-80b1c41e6708",
   "metadata": {},
   "outputs": [],
   "source": [
    "arr = get_directions_under_length(7)"
   ]
  },
  {
   "cell_type": "code",
   "execution_count": 63,
   "id": "934c46af-8038-4067-b831-a0ae4f1875bb",
   "metadata": {},
   "outputs": [
    {
     "data": {
      "text/plain": [
       "[(1, 0),\n",
       " (0, 1),\n",
       " (0, 1),\n",
       " (0, 1),\n",
       " (0, 1),\n",
       " (0, 1),\n",
       " (0, 1),\n",
       " (0, 1),\n",
       " (0, 1),\n",
       " (0, 1),\n",
       " (0, 1),\n",
       " (1, 0),\n",
       " (0, -1),\n",
       " (0, -1),\n",
       " (0, -1),\n",
       " (0, -1),\n",
       " (0, -1),\n",
       " (0, -1),\n",
       " (0, -1),\n",
       " (0, -1),\n",
       " (0, -1),\n",
       " (0, -1),\n",
       " (-1, 0)]"
      ]
     },
     "execution_count": 63,
     "metadata": {},
     "output_type": "execute_result"
    }
   ],
   "source": [
    "el =  arr[-1]\n",
    "el"
   ]
  },
  {
   "cell_type": "code",
   "execution_count": 64,
   "id": "cfea4f31-c686-42a8-9872-e5dad530a132",
   "metadata": {},
   "outputs": [],
   "source": [
    "from kaggle_environments.envs.kore_fleets.helpers import Point\n",
    "import numpy as np\n",
    "\n",
    "origin_cell_pos = Point(5, 4)\n",
    "el = [origin_cell_pos, *el]\n",
    "point_sum = np.cumsum(el, axis=0)\n",
    "horizon = 0\n",
    "while(not(np.equal(point_sum[0], point_sum[-1]).all()) and horizon < 15):\n",
    "    el.append(el[-1])\n",
    "    point_sum = np.vstack([point_sum, el[-1] + point_sum[-1]])\n",
    "    horizon += 1"
   ]
  },
  {
   "cell_type": "code",
   "execution_count": 68,
   "id": "05e913a6-c741-4ba5-858f-91dc18c2a2d5",
   "metadata": {},
   "outputs": [
    {
     "data": {
      "text/plain": [
       "array([[ 6,  4],\n",
       "       [ 6,  5],\n",
       "       [ 6,  6],\n",
       "       [ 6,  7],\n",
       "       [ 6,  8],\n",
       "       [ 6,  9],\n",
       "       [ 6, 10],\n",
       "       [ 6, 11],\n",
       "       [ 6, 12],\n",
       "       [ 6, 13],\n",
       "       [ 6, 14],\n",
       "       [ 7, 14],\n",
       "       [ 7, 13],\n",
       "       [ 7, 12],\n",
       "       [ 7, 11],\n",
       "       [ 7, 10],\n",
       "       [ 7,  9],\n",
       "       [ 7,  8],\n",
       "       [ 7,  7],\n",
       "       [ 7,  6],\n",
       "       [ 7,  5],\n",
       "       [ 7,  4],\n",
       "       [ 6,  4]])"
      ]
     },
     "execution_count": 68,
     "metadata": {},
     "output_type": "execute_result"
    }
   ],
   "source": [
    "point_sum[1:-1]"
   ]
  },
  {
   "cell_type": "code",
   "execution_count": null,
   "id": "9a5538df-8541-4bb1-a410-860ac9556f08",
   "metadata": {},
   "outputs": [],
   "source": [
    "def np_encode_route(origin_cell, routes):\n",
    "    # last_el = routes\n",
    "    "
   ]
  }
 ],
 "metadata": {
  "kernelspec": {
   "display_name": "Python 3 (ipykernel)",
   "language": "python",
   "name": "python3"
  },
  "language_info": {
   "codemirror_mode": {
    "name": "ipython",
    "version": 3
   },
   "file_extension": ".py",
   "mimetype": "text/x-python",
   "name": "python",
   "nbconvert_exporter": "python",
   "pygments_lexer": "ipython3",
   "version": "3.8.10"
  }
 },
 "nbformat": 4,
 "nbformat_minor": 5
}
