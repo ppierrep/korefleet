{
 "cells": [
  {
   "cell_type": "code",
   "execution_count": 1,
   "id": "80b03079-6776-4bc4-9201-42abff22f1a2",
   "metadata": {
    "tags": []
   },
   "outputs": [],
   "source": [
    "%%capture\n",
    "!pip install --upgrade kaggle_environments"
   ]
  },
  {
   "cell_type": "code",
   "execution_count": 2,
   "id": "854ac92b-1a00-4438-85a1-4fe9bb7b6ad5",
   "metadata": {},
   "outputs": [
    {
     "name": "stdout",
     "output_type": "stream",
     "text": [
      "kore_fleets 1.2.0\n"
     ]
    }
   ],
   "source": [
    "%load_ext autoreload\n",
    "from kaggle_environments import make\n",
    "env = make(\"kore_fleets\", debug=True)\n",
    "print(env.name, env.version)"
   ]
  },
  {
   "cell_type": "code",
   "execution_count": null,
   "id": "81c5ac71-6a12-4a7c-8c40-41b717be34ac",
   "metadata": {},
   "outputs": [
    {
     "name": "stdout",
     "output_type": "stream",
     "text": [
      "48\n",
      "[(21, 168, '21W'), (21, 168, '21W'), (21, 168, '21W'), (21, 168, '21E'), (21, 168, '21E')]\n",
      "48\n",
      "[(21, 171.35999999999999, '21W'), (21, 171.35999999999999, '21W'), (21, 171.35999999999999, '21W'), (21, 171.35999999999999, '21E'), (21, 171.35999999999999, '21E')]\n",
      "48\n",
      "[(21, 174.786, '21W'), (21, 174.786, '21W'), (21, 174.786, '21W'), (21, 174.786, '21E'), (21, 174.786, '21E')]\n"
     ]
    }
   ],
   "source": [
    "env.run([\"agent.py\"])\n",
    "env.render(mode=\"ipython\", width=1000, height=800)"
   ]
  }
 ],
 "metadata": {
  "kernelspec": {
   "display_name": "Python 3 (ipykernel)",
   "language": "python",
   "name": "python3"
  },
  "language_info": {
   "codemirror_mode": {
    "name": "ipython",
    "version": 3
   },
   "file_extension": ".py",
   "mimetype": "text/x-python",
   "name": "python",
   "nbconvert_exporter": "python",
   "pygments_lexer": "ipython3",
   "version": "3.8.10"
  }
 },
 "nbformat": 4,
 "nbformat_minor": 5
}
