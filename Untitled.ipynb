{
 "cells": [
  {
   "cell_type": "code",
   "execution_count": 1,
   "id": "80b03079-6776-4bc4-9201-42abff22f1a2",
   "metadata": {
    "tags": []
   },
   "outputs": [],
   "source": [
    "%%capture\n",
    "!pip install --upgrade kaggle_environments"
   ]
  },
  {
   "cell_type": "code",
   "execution_count": 2,
   "id": "854ac92b-1a00-4438-85a1-4fe9bb7b6ad5",
   "metadata": {},
   "outputs": [
    {
     "name": "stdout",
     "output_type": "stream",
     "text": [
      "kore_fleets 1.2.0\n"
     ]
    }
   ],
   "source": [
    "%load_ext autoreload\n",
    "from kaggle_environments import make\n",
    "env = make(\"kore_fleets\", debug=True)\n",
    "print(env.name, env.version)"
   ]
  },
  {
   "cell_type": "code",
   "execution_count": 3,
   "id": "8ef4b662-a181-43ac-9b32-c8279f19e16d",
   "metadata": {},
   "outputs": [
    {
     "data": {
      "text/plain": [
       "[('27', 'N'), ('32', 'W'), ('5', 'E')]"
      ]
     },
     "execution_count": 3,
     "metadata": {},
     "output_type": "execute_result"
    }
   ],
   "source": [
    "import re\n",
    "re.findall(r'(\\d{0,2})([NSWE])', '27N32W5E')"
   ]
  },
  {
   "cell_type": "code",
   "execution_count": null,
   "id": "81c5ac71-6a12-4a7c-8c40-41b717be34ac",
   "metadata": {},
   "outputs": [
    {
     "name": "stdout",
     "output_type": "stream",
     "text": [
      "7488\n",
      "[(23, 276, 'N21WS'), (23, 276, 'N21ES'), (23, 276, 'S21WN'), (23, 276, 'S21EN'), (28, 231, '21N7N')]\n",
      "7488\n",
      "[(23, 281.52000000000004, 'N21WS'), (23, 281.52000000000004, 'N21ES'), (23, 281.52000000000004, 'S21WN'), (23, 281.52000000000004, 'S21EN'), (28, 235.62, '21N7N')]\n",
      "7488\n",
      "[(23, 287.15, 'N21WS'), (23, 287.15, 'N21ES'), (23, 287.15, 'S21WN'), (23, 287.15, 'S21EN'), (28, 240.33300000000006, '21N7N')]\n",
      "7488\n",
      "[(23, 292.894, 'N21WS'), (23, 292.894, 'N21ES'), (23, 292.894, 'S21WN'), (23, 292.894, 'S21EN'), (28, 245.13600000000005, '21N7N')]\n"
     ]
    }
   ],
   "source": [
    "env.run([\"agent.py\"])\n",
    "env.render(mode=\"ipython\", width=1000, height=800)"
   ]
  },
  {
   "cell_type": "code",
   "execution_count": null,
   "id": "dc7b1ea2-ad56-402c-a5a1-4b932c06e1f0",
   "metadata": {},
   "outputs": [],
   "source": []
  }
 ],
 "metadata": {
  "kernelspec": {
   "display_name": "Python 3 (ipykernel)",
   "language": "python",
   "name": "python3"
  },
  "language_info": {
   "codemirror_mode": {
    "name": "ipython",
    "version": 3
   },
   "file_extension": ".py",
   "mimetype": "text/x-python",
   "name": "python",
   "nbconvert_exporter": "python",
   "pygments_lexer": "ipython3",
   "version": "3.8.10"
  }
 },
 "nbformat": 4,
 "nbformat_minor": 5
}
